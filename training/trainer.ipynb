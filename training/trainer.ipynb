{
 "cells": [
  {
   "cell_type": "markdown",
   "id": "square-estonia",
   "metadata": {},
   "source": [
    "# Exercise 1 - Sistemas Inteligentes\n",
    "\n",
    "The objective of this project is create a model pipeline for a **categorization model**.\n",
    "\n",
    "**Authors**\n",
    "- Luís Vendramin\n",
    "- Matheus Garcia\n",
    "---"
   ]
  },
  {
   "cell_type": "code",
   "execution_count": 1,
   "id": "contemporary-deposit",
   "metadata": {},
   "outputs": [],
   "source": [
    "import os\n",
    "import pandas as pd\n",
    "\n",
    "from joblib import dump, load\n",
    "from sklearn.pipeline import Pipeline\n",
    "from sklearn.feature_extraction.text import CountVectorizer, TfidfTransformer\n",
    "from sklearn.ensemble import RandomForestClassifier\n",
    "from sklearn.model_selection import GridSearchCV, StratifiedKFold, train_test_split\n",
    "from sklearn.metrics import roc_auc_score, classification_report, confusion_matrix\n",
    "from sklearn.preprocessing import LabelEncoder"
   ]
  },
  {
   "cell_type": "markdown",
   "id": "specific-marble",
   "metadata": {},
   "source": [
    "# 1. Data and Exploratory Analysis"
   ]
  },
  {
   "cell_type": "code",
   "execution_count": 2,
   "id": "documented-centre",
   "metadata": {},
   "outputs": [
    {
     "data": {
      "text/html": [
       "<div>\n",
       "<style scoped>\n",
       "    .dataframe tbody tr th:only-of-type {\n",
       "        vertical-align: middle;\n",
       "    }\n",
       "\n",
       "    .dataframe tbody tr th {\n",
       "        vertical-align: top;\n",
       "    }\n",
       "\n",
       "    .dataframe thead th {\n",
       "        text-align: right;\n",
       "    }\n",
       "</style>\n",
       "<table border=\"1\" class=\"dataframe\">\n",
       "  <thead>\n",
       "    <tr style=\"text-align: right;\">\n",
       "      <th></th>\n",
       "      <th>product_id</th>\n",
       "      <th>seller_id</th>\n",
       "      <th>query</th>\n",
       "      <th>search_page</th>\n",
       "      <th>position</th>\n",
       "      <th>title</th>\n",
       "      <th>concatenated_tags</th>\n",
       "      <th>creation_date</th>\n",
       "      <th>price</th>\n",
       "      <th>weight</th>\n",
       "      <th>express_delivery</th>\n",
       "      <th>minimum_quantity</th>\n",
       "      <th>view_counts</th>\n",
       "      <th>order_counts</th>\n",
       "      <th>category</th>\n",
       "    </tr>\n",
       "  </thead>\n",
       "  <tbody>\n",
       "    <tr>\n",
       "      <th>0</th>\n",
       "      <td>11394449</td>\n",
       "      <td>8324141</td>\n",
       "      <td>espirito santo</td>\n",
       "      <td>2</td>\n",
       "      <td>6</td>\n",
       "      <td>Mandala Espírito Santo</td>\n",
       "      <td>mandala mdf</td>\n",
       "      <td>2015-11-14 19:42:12</td>\n",
       "      <td>171.890000</td>\n",
       "      <td>1200.0</td>\n",
       "      <td>1</td>\n",
       "      <td>4</td>\n",
       "      <td>244</td>\n",
       "      <td>NaN</td>\n",
       "      <td>Decoração</td>\n",
       "    </tr>\n",
       "    <tr>\n",
       "      <th>1</th>\n",
       "      <td>15534262</td>\n",
       "      <td>6939286</td>\n",
       "      <td>cartao de visita</td>\n",
       "      <td>2</td>\n",
       "      <td>0</td>\n",
       "      <td>Cartão de Visita</td>\n",
       "      <td>cartao visita panfletos tag adesivos copos lon...</td>\n",
       "      <td>2018-04-04 20:55:07</td>\n",
       "      <td>77.670000</td>\n",
       "      <td>8.0</td>\n",
       "      <td>1</td>\n",
       "      <td>5</td>\n",
       "      <td>124</td>\n",
       "      <td>NaN</td>\n",
       "      <td>Papel e Cia</td>\n",
       "    </tr>\n",
       "    <tr>\n",
       "      <th>2</th>\n",
       "      <td>16153119</td>\n",
       "      <td>9835835</td>\n",
       "      <td>expositor de esmaltes</td>\n",
       "      <td>1</td>\n",
       "      <td>38</td>\n",
       "      <td>Organizador expositor p/ 70 esmaltes</td>\n",
       "      <td>expositor</td>\n",
       "      <td>2018-10-13 20:57:07</td>\n",
       "      <td>73.920006</td>\n",
       "      <td>2709.0</td>\n",
       "      <td>1</td>\n",
       "      <td>1</td>\n",
       "      <td>59</td>\n",
       "      <td>NaN</td>\n",
       "      <td>Outros</td>\n",
       "    </tr>\n",
       "    <tr>\n",
       "      <th>3</th>\n",
       "      <td>15877252</td>\n",
       "      <td>8071206</td>\n",
       "      <td>medidas lencol para berco americano</td>\n",
       "      <td>1</td>\n",
       "      <td>6</td>\n",
       "      <td>Jogo de Lençol Berço Estampado</td>\n",
       "      <td>t jogo lencol menino lencol berco</td>\n",
       "      <td>2017-02-27 13:26:03</td>\n",
       "      <td>118.770004</td>\n",
       "      <td>0.0</td>\n",
       "      <td>1</td>\n",
       "      <td>1</td>\n",
       "      <td>180</td>\n",
       "      <td>1.0</td>\n",
       "      <td>Bebê</td>\n",
       "    </tr>\n",
       "    <tr>\n",
       "      <th>4</th>\n",
       "      <td>15917108</td>\n",
       "      <td>7200773</td>\n",
       "      <td>adesivo box banheiro</td>\n",
       "      <td>3</td>\n",
       "      <td>38</td>\n",
       "      <td>ADESIVO BOX DE BANHEIRO</td>\n",
       "      <td>adesivo box banheiro</td>\n",
       "      <td>2017-05-09 13:18:38</td>\n",
       "      <td>191.810000</td>\n",
       "      <td>507.0</td>\n",
       "      <td>1</td>\n",
       "      <td>6</td>\n",
       "      <td>34</td>\n",
       "      <td>NaN</td>\n",
       "      <td>Decoração</td>\n",
       "    </tr>\n",
       "  </tbody>\n",
       "</table>\n",
       "</div>"
      ],
      "text/plain": [
       "   product_id  seller_id                                query  search_page  \\\n",
       "0    11394449    8324141                       espirito santo            2   \n",
       "1    15534262    6939286                     cartao de visita            2   \n",
       "2    16153119    9835835                expositor de esmaltes            1   \n",
       "3    15877252    8071206  medidas lencol para berco americano            1   \n",
       "4    15917108    7200773                 adesivo box banheiro            3   \n",
       "\n",
       "   position                                 title  \\\n",
       "0         6                Mandala Espírito Santo   \n",
       "1         0                      Cartão de Visita   \n",
       "2        38  Organizador expositor p/ 70 esmaltes   \n",
       "3         6        Jogo de Lençol Berço Estampado   \n",
       "4        38               ADESIVO BOX DE BANHEIRO   \n",
       "\n",
       "                                   concatenated_tags        creation_date  \\\n",
       "0                                        mandala mdf  2015-11-14 19:42:12   \n",
       "1  cartao visita panfletos tag adesivos copos lon...  2018-04-04 20:55:07   \n",
       "2                                          expositor  2018-10-13 20:57:07   \n",
       "3                  t jogo lencol menino lencol berco  2017-02-27 13:26:03   \n",
       "4                               adesivo box banheiro  2017-05-09 13:18:38   \n",
       "\n",
       "        price  weight  express_delivery  minimum_quantity  view_counts  \\\n",
       "0  171.890000  1200.0                 1                 4          244   \n",
       "1   77.670000     8.0                 1                 5          124   \n",
       "2   73.920006  2709.0                 1                 1           59   \n",
       "3  118.770004     0.0                 1                 1          180   \n",
       "4  191.810000   507.0                 1                 6           34   \n",
       "\n",
       "   order_counts     category  \n",
       "0           NaN    Decoração  \n",
       "1           NaN  Papel e Cia  \n",
       "2           NaN       Outros  \n",
       "3           1.0         Bebê  \n",
       "4           NaN    Decoração  "
      ]
     },
     "execution_count": 2,
     "metadata": {},
     "output_type": "execute_result"
    }
   ],
   "source": [
    "data = pd.read_csv(os.environ['DATASET_PATH'])\n",
    "data.head()"
   ]
  },
  {
   "cell_type": "markdown",
   "id": "considered-speaker",
   "metadata": {},
   "source": [
    "## 1.1. Check null values\n",
    "\n",
    "Just `weight`, `order_counts` and `concatenated_tags` has missing values. So, as long as we don't use the variables `weight` and `order_counts`, they won't be a problem for us. But we use the variable `concatenated_tags` in our model, so we going to fill the null values with a blank character."
   ]
  },
  {
   "cell_type": "code",
   "execution_count": 3,
   "id": "primary-foster",
   "metadata": {},
   "outputs": [
    {
     "data": {
      "text/plain": [
       "product_id           0.00000\n",
       "seller_id            0.00000\n",
       "query                0.00000\n",
       "search_page          0.00000\n",
       "position             0.00000\n",
       "title                0.00000\n",
       "creation_date        0.00000\n",
       "price                0.00000\n",
       "express_delivery     0.00000\n",
       "minimum_quantity     0.00000\n",
       "view_counts          0.00000\n",
       "category             0.00000\n",
       "concatenated_tags    0.00005\n",
       "weight               0.00153\n",
       "order_counts         0.52908\n",
       "dtype: float64"
      ]
     },
     "execution_count": 3,
     "metadata": {},
     "output_type": "execute_result"
    }
   ],
   "source": [
    "data.isnull().mean().round(5).sort_values()"
   ]
  },
  {
   "cell_type": "markdown",
   "id": "smart-enemy",
   "metadata": {},
   "source": [
    "# 1.2. Check the target balance\n",
    "\n",
    "Our target variable `category` is unbalanced. We have many observations with `category` (+/- 46%) equals to \"Lembancinhas\" and just a few equal to \"Outros\" or \"Bijuterias e Jóias\" (+/- 3% and ~2%). Therefore, is necessary to evaluate our model using metrics that deal better with unbalanced data, like **Recall**, **F1** or **AUC**. "
   ]
  },
  {
   "cell_type": "code",
   "execution_count": 4,
   "id": "drawn-lotus",
   "metadata": {},
   "outputs": [
    {
     "data": {
      "text/plain": [
       "Lembrancinhas         0.46\n",
       "Decoração             0.23\n",
       "Bebê                  0.18\n",
       "Papel e Cia           0.07\n",
       "Outros                0.03\n",
       "Bijuterias e Jóias    0.02\n",
       "Name: category, dtype: float64"
      ]
     },
     "execution_count": 4,
     "metadata": {},
     "output_type": "execute_result"
    }
   ],
   "source": [
    "data.category.value_counts(normalize=True).round(2)"
   ]
  },
  {
   "cell_type": "markdown",
   "id": "steady-surfing",
   "metadata": {},
   "source": [
    "# 2. Model\n",
    "\n",
    "We build a very simple model just using the non-numerical fields `title` and `concatenated_tags`. \n",
    "\n",
    "In the first part of our pipeline model we:\n",
    "* Concatenate `title` and `concatenated_tags`\n",
    "* Applied the upper function\n",
    "* Applied the fill na function in `concatenated_tags`"
   ]
  },
  {
   "cell_type": "code",
   "execution_count": 5,
   "id": "running-situation",
   "metadata": {},
   "outputs": [
    {
     "data": {
      "text/plain": [
       "0                   MANDALA ESPÍRITO SANTO MANDALA MDF\n",
       "1    CARTÃO DE VISITA CARTAO VISITA PANFLETOS TAG A...\n",
       "2       ORGANIZADOR EXPOSITOR P/ 70 ESMALTES EXPOSITOR\n",
       "3    JOGO DE LENÇOL BERÇO ESTAMPADO T JOGO LENCOL M...\n",
       "4         ADESIVO BOX DE BANHEIRO ADESIVO BOX BANHEIRO\n",
       "dtype: object"
      ]
     },
     "execution_count": 5,
     "metadata": {},
     "output_type": "execute_result"
    }
   ],
   "source": [
    "(data['title'].str.upper()+' '+data['concatenated_tags'].str.upper()).head()"
   ]
  },
  {
   "cell_type": "code",
   "execution_count": 6,
   "id": "unusual-meditation",
   "metadata": {},
   "outputs": [],
   "source": [
    "X = data['title'].str.upper()+' '+data['concatenated_tags'].str.upper().fillna('') #Preprocessing the data\n",
    "y = data.category\n",
    "\n",
    "# Scikit learn force us to encode non-numerical variables in numerical variables\n",
    "le = LabelEncoder()\n",
    "le.fit(y)\n",
    "y = le.transform(y)"
   ]
  },
  {
   "cell_type": "markdown",
   "id": "automotive-latitude",
   "metadata": {},
   "source": [
    "In the secod part, we applied the scikit learn functions `CountVectorizer()` and `TfidfTransformer()` in our non-numerical explainer variables to encode the data in a numerical matrix. For more details, see this [link][1]\n",
    "\n",
    "Finally, we build a Random Forest Classfier with a Grid Search in 5 stratified folds. During the model training, we were careful with the unbalance problems of the target variable. Therefore, we:\n",
    "* Used the ROC AUC score in the Grid Search\n",
    "* Setted \"balanced\" in the class_weight parameter of the Random Forest Classifier \n",
    "* Implemented a stratified cross validation.\n",
    "\n",
    "[1]: https://scikit-learn.org/stable/tutorial/text_analytics/working_with_text_data.html"
   ]
  },
  {
   "cell_type": "code",
   "execution_count": 7,
   "id": "excessive-guard",
   "metadata": {},
   "outputs": [],
   "source": [
    "text_clf = Pipeline([\n",
    "     ('vect', CountVectorizer()),\n",
    "     ('tfidf', TfidfTransformer()),\n",
    "     ('clf', RandomForestClassifier(random_state=42))\n",
    "])\n",
    "\n",
    "param_grid = { \n",
    "    'clf__n_estimators': [100, 200, 500],\n",
    "    'clf__max_depth' : [2,3,4,5,6,7],\n",
    "    'clf__class_weight': [\"balanced\"] #Garantee that the RF will be robust to unbalanced data\n",
    "}"
   ]
  },
  {
   "cell_type": "code",
   "execution_count": null,
   "id": "handed-saskatchewan",
   "metadata": {},
   "outputs": [
    {
     "name": "stdout",
     "output_type": "stream",
     "text": [
      "Fitting 5 folds for each of 18 candidates, totalling 90 fits\n"
     ]
    }
   ],
   "source": [
    "%%time\n",
    "X_train, X_test, y_train, y_test = train_test_split(X, y, test_size=0.33, random_state=42, stratify=y)\n",
    "\n",
    "CV_rfc = GridSearchCV(estimator=text_clf, \n",
    "                      param_grid=param_grid, \n",
    "                      cv=StratifiedKFold(random_state=42, shuffle=True, n_splits=5), \n",
    "                      scoring='roc_auc_ovr', \n",
    "                      n_jobs=-1,\n",
    "                      verbose=10,\n",
    "                      refit=True)\n",
    "\n",
    "CV_rfc.fit(X_train, y_train);"
   ]
  },
  {
   "cell_type": "code",
   "execution_count": null,
   "id": "italic-perth",
   "metadata": {},
   "outputs": [],
   "source": [
    "CV_rfc.best_estimator_"
   ]
  },
  {
   "cell_type": "markdown",
   "id": "civic-program",
   "metadata": {},
   "source": [
    "# 3. Metrics and Results\n",
    "\n",
    "As we see, the weighted average recall of our model is 75% and the weighted average precision is 81%. The macro average precision is not so good because the target \"Outros\", probably, this target is too generic and create a classifier for it it's harder than for the others."
   ]
  },
  {
   "cell_type": "code",
   "execution_count": null,
   "id": "utility-stroke",
   "metadata": {},
   "outputs": [],
   "source": [
    "confusion_matrix(y_test, CV_rfc.predict(X_test))"
   ]
  },
  {
   "cell_type": "code",
   "execution_count": null,
   "id": "racial-imperial",
   "metadata": {},
   "outputs": [],
   "source": [
    "print(classification_report(y_test, CV_rfc.predict(X_test), target_names=list(le.classes_)))"
   ]
  },
  {
   "cell_type": "code",
   "execution_count": null,
   "id": "willing-approval",
   "metadata": {},
   "outputs": [],
   "source": [
    "print(classification_report(y_train, CV_rfc.predict(X_train), target_names=list(le.classes_)))"
   ]
  },
  {
   "cell_type": "markdown",
   "id": "healthy-dutch",
   "metadata": {},
   "source": [
    "# 4. Exporting model"
   ]
  },
  {
   "cell_type": "code",
   "execution_count": null,
   "id": "precise-condition",
   "metadata": {},
   "outputs": [],
   "source": [
    "dump(CV_rfc, os.environ['MODEL_PATH'])"
   ]
  }
 ],
 "metadata": {
  "kernelspec": {
   "display_name": "Python 3",
   "language": "python",
   "name": "python3"
  },
  "language_info": {
   "codemirror_mode": {
    "name": "ipython",
    "version": 3
   },
   "file_extension": ".py",
   "mimetype": "text/x-python",
   "name": "python",
   "nbconvert_exporter": "python",
   "pygments_lexer": "ipython3",
   "version": "3.9.1"
  }
 },
 "nbformat": 4,
 "nbformat_minor": 5
}
